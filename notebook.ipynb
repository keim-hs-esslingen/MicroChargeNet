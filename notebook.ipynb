{
  "nbformat": 4,
  "nbformat_minor": 0,
  "metadata": {
    "colab": {
      "provenance": [],
      "mount_file_id": "1ahzRQwdzc2fAMy5VYkB97ADdESJbM_A1",
      "authorship_tag": "ABX9TyNrfSxKQl9xOvCAYNvew77W",
      "include_colab_link": true
    },
    "kernelspec": {
      "name": "python3",
      "display_name": "Python 3"
    },
    "language_info": {
      "name": "python"
    }
  },
  "cells": [
    {
      "cell_type": "markdown",
      "metadata": {
        "id": "view-in-github",
        "colab_type": "text"
      },
      "source": [
        "<a href=\"https://colab.research.google.com/github/keim-hs-esslingen/MicroChargeNet/blob/main/notebook.ipynb\" target=\"_parent\"><img src=\"https://colab.research.google.com/assets/colab-badge.svg\" alt=\"Open In Colab\"/></a>"
      ]
    },
    {
      "cell_type": "code",
      "execution_count": 1,
      "metadata": {
        "id": "6vT6YHrEf4A4",
        "colab": {
          "base_uri": "https://localhost:8080/"
        },
        "outputId": "f4977760-6bab-49da-c173-f892526168dc"
      },
      "outputs": [
        {
          "output_type": "stream",
          "name": "stdout",
          "text": [
            "Looking in indexes: https://pypi.org/simple, https://us-python.pkg.dev/colab-wheels/public/simple/\n",
            "Collecting sumolib\n",
            "  Downloading sumolib-1.15.0-py3-none-any.whl (144 kB)\n",
            "\u001b[K     |████████████████████████████████| 144 kB 5.1 MB/s \n",
            "\u001b[?25hInstalling collected packages: sumolib\n",
            "Successfully installed sumolib-1.15.0\n",
            "Looking in indexes: https://pypi.org/simple, https://us-python.pkg.dev/colab-wheels/public/simple/\n",
            "Collecting pyproj\n",
            "  Downloading pyproj-3.4.0-cp38-cp38-manylinux_2_17_x86_64.manylinux2014_x86_64.whl (7.8 MB)\n",
            "\u001b[K     |████████████████████████████████| 7.8 MB 5.1 MB/s \n",
            "\u001b[?25hRequirement already satisfied: certifi in /usr/local/lib/python3.8/dist-packages (from pyproj) (2022.9.24)\n",
            "Installing collected packages: pyproj\n",
            "Successfully installed pyproj-3.4.0\n",
            "Looking in indexes: https://pypi.org/simple, https://us-python.pkg.dev/colab-wheels/public/simple/\n",
            "Collecting rtree\n",
            "  Downloading Rtree-1.0.1-cp38-cp38-manylinux_2_17_x86_64.manylinux2014_x86_64.whl (1.0 MB)\n",
            "\u001b[K     |████████████████████████████████| 1.0 MB 4.7 MB/s \n",
            "\u001b[?25hInstalling collected packages: rtree\n",
            "Successfully installed rtree-1.0.1\n"
          ]
        }
      ],
      "source": [
        "!pip install sumolib\n",
        "!pip install pyproj\n",
        "!pip install rtree"
      ]
    },
    {
      "cell_type": "code",
      "source": [
        "import sumolib\n",
        "import pyproj\n",
        "import numpy as np\n",
        "import math\n",
        "\n",
        "import matplotlib.pyplot as plt\n",
        "# parse the net\n",
        "\n",
        "#Berlin:      drive/MyDrive/Colab Notebooks/Berlin/berlin...\n",
        "#Geislingen:  drive/MyDrive/Colab Notebooks/Geislingen/geislingen...\n",
        "#Stuttgart:   drive/MyDrive/Colab Notebooks/Stuttgart/stuttgart...\n",
        "net = sumolib.net.readNet('drive/MyDrive/Colab Notebooks/Berlin/berlin.net.xml.gz')\n",
        "\n",
        "x0, y0, x1, y1 = net.getBoundary()\n",
        "\n",
        "estimatetX = 5000\n",
        "estimatetY = 5000\n",
        "distance = 500\n",
        "\n",
        "\n",
        "# create Mesh\n",
        "countX= round(estimatetX / distance)\n",
        "countY = round(estimatetY / distance)\n",
        "\n",
        "xs = np. linspace(x0 + (x1-estimatetX)/2, x1 - (x1-estimatetX)/2, countX)\n",
        "ys = np. linspace(y0 + (y1-estimatetY)/2, y1 - (y1-estimatetY)/2, countY)\n",
        "X, Y = np. meshgrid(xs, ys)\n",
        "\n",
        "# parse Coordinates \n",
        "rawPoints = np.append(X.reshape(-1,1),Y.reshape(-1,1),axis=1)\n",
        "\n",
        "print(rawPoints[0])\n",
        "print(rawPoints[-1])\n",
        "\n",
        "#landuse\n",
        "\"\"\"\n",
        "polys = []\n",
        "\n",
        "for poly in sumolib.shapes.polygon.read('drive/MyDrive/Colab Notebooks/Stuttgart/stuttgart.poly.xml'):\n",
        "  if poly.type.startswith('landuse.industrial'):\n",
        "    polys.append(poly)\n",
        "\n",
        "print(polys[0])\n",
        "print(sumolib.geomhelper.isWithin((4070, 2440), polys[0].shape))\n",
        "\n",
        "###\n",
        "\"\"\"\n",
        "\n",
        "\n",
        "allowedEdgeTypes = {\"highway.primary\", \"highway.primary_link\", \"highway.secondary\", \"highway.secondary_link\",\n",
        "                       \"highway.tertiary\", \"highway.tertiary_link\", \"highway.unclassified\", \"highway.residential\",\n",
        "                       \"highway.living_street\", \"highway.cycleway\" }\n",
        "allowedVehicleClasses = set(['private', 'bicycle', 'moped', 'motorcycle', 'evehicle'])\n",
        "\n",
        "stations = []\n",
        "lanesForStations = []\n",
        "\n",
        "for i, point in enumerate(rawPoints):     \n",
        "\n",
        "  # find nearest Edge\n",
        "  #radius = (math.sqrt(2) * (xs[1] - xs[0])) / 2\n",
        "  radius = (xs[1] - xs[0]) / 2\n",
        "  lanes = net.getNeighboringLanes(point[0], point[1], radius, includeJunctions=False)\n",
        "\n",
        "  # pick the closest edge\n",
        "  nearestLane = None\n",
        "  if len(lanes) > 0:\n",
        "    clearedLanes = []\n",
        "\n",
        "    for e in lanes:\n",
        "      if e[0].getEdge().getType() in allowedEdgeTypes:\n",
        "        if (e[0]._allowed & allowedVehicleClasses):\n",
        "          clearedLanes.append(e)\n",
        "\n",
        "    laneAndDistance = sorted(clearedLanes, key=lambda x: x[1] )\n",
        "    if len(laneAndDistance) > 0:\n",
        "      nearestLane = laneAndDistance[0]\n",
        "      xy = sumolib.geomhelper.positionAtShapeOffset(nearestLane[0].getShape(), nearestLane[0].getLength()/2)\n",
        "      poi = sumolib.shapes.poi.PoI('poi_'+str(i), 'station', '4', sumolib.color.decodeXML('red'), xy[0], xy[1] )\n",
        "      stations.append(poi)\n",
        "      lanesForStations.append(nearestLane[0]);\n",
        "     \n",
        "\n",
        "\n",
        "\n",
        "sx = [s.x for s in stations]\n",
        "sy = [s.y for s in stations]\n",
        "\n",
        "plt.figure(figsize=(10,10), dpi=80)\n",
        "\n",
        "plt.plot(X, Y, '.', color='red')\n",
        "plt.plot(sx, sy, '.', color='green')\n",
        "plt.show()\n",
        "\n",
        "\n",
        "# Create Poly File\n",
        "with open('drive/MyDrive/Colab Notebooks/Berlin/berlin.stations.xml', 'w') as f:\n",
        "  f.write('<?xml version=\"1.0\"?>\\n')\n",
        "  f.write('<additional>\\n')\n",
        "  for poi in stations:\n",
        "    f.write(poi.toXML())\n",
        "  \n",
        "  f.write('</additional>\\n')\n",
        "\n",
        "\n",
        "# Check avg distance\n",
        "allDistances = []\n",
        "\n",
        "for index, l1 in enumerate(lanesForStations):\n",
        " \n",
        "#index = 2\n",
        "#l1 = lanesForStations[index]\n",
        "  distances = []\n",
        "  for i in range(index-2*countX,index+2*countX):\n",
        "    l2 = lanesForStations[i % len(lanesForStations)]\n",
        "    if l1 != l2:\n",
        "      distances.append(net.getShortestPath(l1._edge, l2._edge)) \n",
        "\n",
        "  shortest= sorted(distances, key=lambda x: x[1] )[0][1]\n",
        "  if (shortest != float('inf')):\n",
        "    allDistances.append(shortest)\n",
        "\n",
        "mean = np.mean(allDistances)\n",
        "print(\"Min =\" + str(min(allDistances)))\n",
        "print(\"Max = \" + str(max(allDistances)))\n",
        "print(\"Durchschnitt = \"+str(mean))\n",
        "print(\"Soll = \" + str(distance))\n",
        "print(\"Abweichung = \"+ str(abs(mean-distance)*100/distance) + \"%\")\n"
      ],
      "metadata": {
        "id": "QlNx0N2_rZMf",
        "colab": {
          "base_uri": "https://localhost:8080/",
          "height": 783
        },
        "outputId": "f2bfdd2a-e9fc-4e9b-8097-041296b0bf6d"
      },
      "execution_count": 3,
      "outputs": [
        {
          "output_type": "stream",
          "name": "stdout",
          "text": [
            "[3111.56   871.305]\n",
            "[8111.56  5871.305]\n"
          ]
        },
        {
          "output_type": "display_data",
          "data": {
            "text/plain": [
              "<Figure size 800x800 with 1 Axes>"
            ],
            "image/png": "[encoded data removed]"
          },
          "metadata": {
            "needs_background": "light"
          }
        },
        {
          "output_type": "stream",
          "name": "stdout",
          "text": [
            "Min =369.44\n",
            "Max = 1236.98\n",
            "Durchschnitt = 645.3486734693878\n",
            "Soll = 500\n",
            "Abweichung = 29.06973469387756%\n"
          ]
        }
      ]
    }
  ]
}