{
  "nbformat": 4,
  "nbformat_minor": 0,
  "metadata": {
    "colab": {
      "provenance": [],
      "mount_file_id": "1SvCnQ9il8iINEOiRWvdaL6EzxfZxVUbk",
      "authorship_tag": "ABX9TyPboqHq8S90gYKt9Is+KZs4",
      "include_colab_link": true
    },
    "kernelspec": {
      "name": "python3",
      "display_name": "Python 3"
    },
    "language_info": {
      "name": "python"
    }
  },
  "cells": [
    {
      "cell_type": "markdown",
      "metadata": {
        "id": "view-in-github",
        "colab_type": "text"
      },
      "source": [
        "<a href=\"https://colab.research.google.com/github/keim-hs-esslingen/MicroChargeNet/blob/main/notebook.ipynb\" target=\"_parent\"><img src=\"https://colab.research.google.com/assets/colab-badge.svg\" alt=\"Open In Colab\"/></a>"
      ]
    },
    {
      "cell_type": "code",
      "execution_count": 1,
      "metadata": {
        "id": "6vT6YHrEf4A4",
        "colab": {
          "base_uri": "https://localhost:8080/"
        },
        "outputId": "7b51f23e-d2bb-40a9-9ce6-5ada7ea0ba53"
      },
      "outputs": [
        {
          "output_type": "stream",
          "name": "stdout",
          "text": [
            "Looking in indexes: https://pypi.org/simple, https://us-python.pkg.dev/colab-wheels/public/simple/\n",
            "Collecting sumolib\n",
            "  Downloading sumolib-1.15.0-py3-none-any.whl (144 kB)\n",
            "\u001b[K     |████████████████████████████████| 144 kB 4.7 MB/s \n",
            "\u001b[?25hInstalling collected packages: sumolib\n",
            "Successfully installed sumolib-1.15.0\n",
            "Looking in indexes: https://pypi.org/simple, https://us-python.pkg.dev/colab-wheels/public/simple/\n",
            "Collecting pyproj\n",
            "  Downloading pyproj-3.2.1-cp37-cp37m-manylinux2010_x86_64.whl (6.3 MB)\n",
            "\u001b[K     |████████████████████████████████| 6.3 MB 5.3 MB/s \n",
            "\u001b[?25hRequirement already satisfied: certifi in /usr/local/lib/python3.7/dist-packages (from pyproj) (2022.9.24)\n",
            "Installing collected packages: pyproj\n",
            "Successfully installed pyproj-3.2.1\n",
            "Looking in indexes: https://pypi.org/simple, https://us-python.pkg.dev/colab-wheels/public/simple/\n",
            "Collecting rtree\n",
            "  Downloading Rtree-1.0.1-cp37-cp37m-manylinux_2_17_x86_64.manylinux2014_x86_64.whl (1.0 MB)\n",
            "\u001b[K     |████████████████████████████████| 1.0 MB 5.2 MB/s \n",
            "\u001b[?25hRequirement already satisfied: typing-extensions>=3.7 in /usr/local/lib/python3.7/dist-packages (from rtree) (4.1.1)\n",
            "Installing collected packages: rtree\n",
            "Successfully installed rtree-1.0.1\n"
          ]
        }
      ],
      "source": [
        "!pip install sumolib\n",
        "!pip install pyproj\n",
        "!pip install rtree"
      ]
    },
    {
      "cell_type": "code",
      "source": [
        "import sumolib\n",
        "import pyproj\n",
        "import numpy as np\n",
        "\n",
        "import matplotlib.pyplot as plt\n",
        "# parse the net\n",
        "\n",
        "net = sumolib.net.readNet('drive/MyDrive/Colab Notebooks/Stuttgart/stuttgart.net.xml.gz')\n",
        "\n",
        "x0, y0, x1, y1 = net.getBoundary()\n",
        "\n",
        "\n",
        "# create Mesh\n",
        "count=10\n",
        "xs = np. linspace(x0, x1, count)\n",
        "ys = np. linspace(y0, y1, count)\n",
        "X, Y = np. meshgrid(xs, ys)\n",
        "\n",
        "# parse Coordinates \n",
        "rawPoints = np.append(X.reshape(-1,1),Y.reshape(-1,1),axis=1)\n",
        "\n",
        "\n",
        "\"\"\" \n",
        "# Plot coordinates\n",
        "plt.figure(figsize=(10,10), dpi=80)\n",
        "\n",
        "plt.plot(X, Y, '.', color='black');\n",
        "plt.show()\n",
        "\"\"\"\n",
        "\n",
        "allowedEdgeTypes = {\"highway.primary\", \"highway.primary_link\", \"highway.secondary\", \"highway.secondary_link\",\n",
        "                       \"highway.tertiary\", \"highway.tertiary_link\", \"highway.unclassified\", \"highway.residential\",\n",
        "                       \"highway.living_street\", \"highway.cycleway\" }\n",
        "allowedVehicleClasses = set(['private', 'bicycle', 'moped', 'motorcycle', 'evehicle'])\n",
        "\n",
        "# find nearest Edge\n",
        "radius = x1/count\n",
        "lanes = net.getNeighboringLanes(5168, 1513, radius, includeJunctions=False)\n",
        "# pick the closest edge\n",
        "nearestLane = None\n",
        "if len(lanes) > 0:\n",
        "    clearedLanes = []\n",
        "\n",
        "    for e in lanes:\n",
        "      if e[0].getEdge().getType() in allowedEdgeTypes:\n",
        "        if (e[0]._allowed & allowedVehicleClasses):\n",
        "          clearedLanes.append(e)\n",
        "\n",
        "    laneAndDistance = sorted(clearedLanes, key=lambda x: x[1] )\n",
        "    nearestLane = laneAndDistance[0]\n",
        "\n",
        "print(nearestLane[0].getID())\n",
        "xPos, yPos = nearestLane[0].getShape()[0]\n",
        "print(xPos)\n",
        "print(yPos)"
      ],
      "metadata": {
        "id": "QlNx0N2_rZMf",
        "colab": {
          "base_uri": "https://localhost:8080/"
        },
        "outputId": "6e682b2e-26c5-425e-f439-157fdca1326e"
      },
      "execution_count": 18,
      "outputs": [
        {
          "output_type": "stream",
          "name": "stdout",
          "text": [
            "226850259#6_1\n",
            "5145.4\n",
            "1486.38\n"
          ]
        }
      ]
    }
  ]
}