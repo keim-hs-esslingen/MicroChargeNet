{
  "nbformat": 4,
  "nbformat_minor": 0,
  "metadata": {
    "colab": {
      "provenance": [],
      "mount_file_id": "1eQwijIbc0y1uUcXhnwWWmlzzjYEhuSd3",
      "authorship_tag": "ABX9TyNxMJeCvRrBg3yAKsbaI2a1",
      "include_colab_link": true
    },
    "kernelspec": {
      "name": "python3",
      "display_name": "Python 3"
    },
    "language_info": {
      "name": "python"
    }
  },
  "cells": [
    {
      "cell_type": "markdown",
      "metadata": {
        "id": "view-in-github",
        "colab_type": "text"
      },
      "source": [
        "<a href=\"https://colab.research.google.com/github/keim-hs-esslingen/MicroChargeNet/blob/main/notebook.ipynb\" target=\"_parent\"><img src=\"https://colab.research.google.com/assets/colab-badge.svg\" alt=\"Open In Colab\"/></a>"
      ]
    },
    {
      "cell_type": "code",
      "execution_count": 13,
      "metadata": {
        "id": "6vT6YHrEf4A4",
        "colab": {
          "base_uri": "https://localhost:8080/"
        },
        "outputId": "98b356a3-ce51-4956-b3c1-b2ced5d72b10"
      },
      "outputs": [
        {
          "output_type": "stream",
          "name": "stdout",
          "text": [
            "Looking in indexes: https://pypi.org/simple, https://us-python.pkg.dev/colab-wheels/public/simple/\n",
            "Requirement already satisfied: sumolib in /usr/local/lib/python3.7/dist-packages (1.15.0)\n",
            "Looking in indexes: https://pypi.org/simple, https://us-python.pkg.dev/colab-wheels/public/simple/\n",
            "Requirement already satisfied: pyproj in /usr/local/lib/python3.7/dist-packages (3.2.1)\n",
            "Requirement already satisfied: certifi in /usr/local/lib/python3.7/dist-packages (from pyproj) (2022.9.24)\n",
            "Looking in indexes: https://pypi.org/simple, https://us-python.pkg.dev/colab-wheels/public/simple/\n",
            "Requirement already satisfied: rtree in /usr/local/lib/python3.7/dist-packages (1.0.1)\n",
            "Requirement already satisfied: typing-extensions>=3.7 in /usr/local/lib/python3.7/dist-packages (from rtree) (4.1.1)\n"
          ]
        }
      ],
      "source": [
        "!pip install sumolib\n",
        "!pip install pyproj\n",
        "!pip install rtree"
      ]
    },
    {
      "cell_type": "code",
      "source": [
        "import sumolib\n",
        "import pyproj\n",
        "import numpy as np\n",
        "\n",
        "import matplotlib.pyplot as plt\n",
        "# parse the net\n",
        "\n",
        "net = sumolib.net.readNet('drive/MyDrive/Colab Notebooks/Stuttgart/stuttgart.net.xml.gz')\n",
        "\n",
        "x0, y0, x1, y1 = net.getBoundary()\n",
        "\n",
        "\n",
        "# create Mesh\n",
        "count=10\n",
        "xs = np. linspace(x0, x1, count)\n",
        "ys = np. linspace(y0, y1, count)\n",
        "X, Y = np. meshgrid(xs, ys)\n",
        "\n",
        "# parse Coordinates \n",
        "rawPoints = np.append(X.reshape(-1,1),Y.reshape(-1,1),axis=1)\n",
        "\n",
        "#landuse\n",
        "\n",
        "polys = []\n",
        "\n",
        "for poly in sumolib.shapes.polygon.read('drive/MyDrive/Colab Notebooks/Stuttgart/stuttgart.poly.xml'):\n",
        "  if poly.type.startswith('landuse.industrial'):\n",
        "    polys.append(poly)\n",
        "\n",
        "print(polys[0])\n",
        "print(sumolib.geomhelper.isWithin((4070, 2440), polys[0].shape))\n",
        "\n",
        "###\n",
        "\n",
        "\"\"\"\n",
        "# Plot coordinates\n",
        "plt.figure(figsize=(10,10), dpi=80)\n",
        "\n",
        "plt.plot(X, Y, '.', color='black');\n",
        "plt.show()\n",
        "\"\"\"\n",
        "\n",
        "allowedEdgeTypes = {\"highway.primary\", \"highway.primary_link\", \"highway.secondary\", \"highway.secondary_link\",\n",
        "                       \"highway.tertiary\", \"highway.tertiary_link\", \"highway.unclassified\", \"highway.residential\",\n",
        "                       \"highway.living_street\", \"highway.cycleway\" }\n",
        "allowedVehicleClasses = set(['private', 'bicycle', 'moped', 'motorcycle', 'evehicle'])\n",
        "\n",
        "# find nearest Edge\n",
        "radius = x1/count\n",
        "lanes = net.getNeighboringLanes(5168, 1513, radius, includeJunctions=False)\n",
        "# pick the closest edge\n",
        "nearestLane = None\n",
        "if len(lanes) > 0:\n",
        "    clearedLanes = []\n",
        "\n",
        "    for e in lanes:\n",
        "      if e[0].getEdge().getType() in allowedEdgeTypes:\n",
        "        if (e[0]._allowed & allowedVehicleClasses):\n",
        "          clearedLanes.append(e)\n",
        "\n",
        "    laneAndDistance = sorted(clearedLanes, key=lambda x: x[1] )\n",
        "    nearestLane = laneAndDistance[0]\n",
        "\n",
        "print(nearestLane[0].getID())\n",
        "xPos, yPos = nearestLane[0].getShape()[0]\n",
        "print(xPos)\n",
        "print(yPos)\n"
      ],
      "metadata": {
        "id": "QlNx0N2_rZMf",
        "colab": {
          "base_uri": "https://localhost:8080/",
          "height": 167
        },
        "outputId": "a0b218ad-5ab2-4865-c88d-31d89f05b039"
      },
      "execution_count": 48,
      "outputs": [
        {
          "output_type": "stream",
          "name": "stdout",
          "text": [
            "<poly id=\"1012759231\" type=\"landuse.industrial\" color=\"209.0,209.0,204.0\" layer=\"-3\" fill=\"1\" shape=\"3607.02137,3047.385018 3600.735468,3037.165547 3599.073515,3031.70359 3596.895993,3026.818458 3585.221273,3009.071772 3579.057155,3000.130972 3577.070436,2995.312995 3576.440122,2991.587596 3578.184019,2987.223051 3581.994029,2982.040779 3592.512684,2972.950317 3601.544052,2965.323698 3623.348581,2948.945499 3625.9024,2946.917277 3630.45683,2953.141978 3624.256667,2962.564943 3623.000667,2968.720328 3624.008549,2974.303023 3614.006525,2979.237202 3591.091511,2996.213093 3587.906706,3001.052232 3590.549782,3004.77126 3597.787385,3016.3936 3611.997984,3033.445982 3615.826995,3038.879712 3607.02137,3047.385018\"/>\n",
            "False\n"
          ]
        },
        {
          "output_type": "execute_result",
          "data": {
            "text/plain": [
              "'\\n# Plot coordinates\\nplt.figure(figsize=(10,10), dpi=80)\\n\\nplt.plot(X, Y, \\'.\\', color=\\'black\\');\\nplt.show()\\n\\n\\nallowedEdgeTypes = {\"highway.primary\", \"highway.primary_link\", \"highway.secondary\", \"highway.secondary_link\",\\n                       \"highway.tertiary\", \"highway.tertiary_link\", \"highway.unclassified\", \"highway.residential\",\\n                       \"highway.living_street\", \"highway.cycleway\" }\\nallowedVehicleClasses = set([\\'private\\', \\'bicycle\\', \\'moped\\', \\'motorcycle\\', \\'evehicle\\'])\\n\\n# find nearest Edge\\nradius = x1/count\\nlanes = net.getNeighboringLanes(5168, 1513, radius, includeJunctions=False)\\n# pick the closest edge\\nnearestLane = None\\nif len(lanes) > 0:\\n    clearedLanes = []\\n\\n    for e in lanes:\\n      if e[0].getEdge().getType() in allowedEdgeTypes:\\n        if (e[0]._allowed & allowedVehicleClasses):\\n          clearedLanes.append(e)\\n\\n    laneAndDistance = sorted(clearedLanes, key=lambda x: x[1] )\\n    nearestLane = laneAndDistance[0]\\n\\nprint(nearestLane[0].getID())\\nxPos, yPos = nearestLane[0].getShape()[0]\\nprint(xPos)\\nprint(yPos)\\n'"
            ],
            "application/vnd.google.colaboratory.intrinsic+json": {
              "type": "string"
            }
          },
          "metadata": {},
          "execution_count": 48
        }
      ]
    }
  ]
}