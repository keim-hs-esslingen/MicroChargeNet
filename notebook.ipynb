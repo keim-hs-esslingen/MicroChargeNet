{
  "nbformat": 4,
  "nbformat_minor": 0,
  "metadata": {
    "colab": {
      "provenance": [],
      "mount_file_id": "14MJKKHH-nIpvNoCcmSKDdzv_Jm00e2jc",
      "authorship_tag": "ABX9TyMtTd48k7DYwGytub/bQp3K",
      "include_colab_link": true
    },
    "kernelspec": {
      "name": "python3",
      "display_name": "Python 3"
    },
    "language_info": {
      "name": "python"
    }
  },
  "cells": [
    {
      "cell_type": "markdown",
      "metadata": {
        "id": "view-in-github",
        "colab_type": "text"
      },
      "source": [
        "<a href=\"https://colab.research.google.com/github/keim-hs-esslingen/MicroChargeNet/blob/main/notebook.ipynb\" target=\"_parent\"><img src=\"https://colab.research.google.com/assets/colab-badge.svg\" alt=\"Open In Colab\"/></a>"
      ]
    },
    {
      "cell_type": "code",
      "execution_count": 25,
      "metadata": {
        "id": "6vT6YHrEf4A4",
        "colab": {
          "base_uri": "https://localhost:8080/"
        },
        "outputId": "0bb6a527-c909-42e0-a71d-b24baeb1c543"
      },
      "outputs": [
        {
          "output_type": "stream",
          "name": "stdout",
          "text": [
            "Looking in indexes: https://pypi.org/simple, https://us-python.pkg.dev/colab-wheels/public/simple/\n",
            "Requirement already satisfied: sumolib in /usr/local/lib/python3.7/dist-packages (1.15.0)\n",
            "Looking in indexes: https://pypi.org/simple, https://us-python.pkg.dev/colab-wheels/public/simple/\n",
            "Collecting pyproj\n",
            "  Downloading pyproj-3.2.1-cp37-cp37m-manylinux2010_x86_64.whl (6.3 MB)\n",
            "\u001b[K     |████████████████████████████████| 6.3 MB 24.3 MB/s \n",
            "\u001b[?25hRequirement already satisfied: certifi in /usr/local/lib/python3.7/dist-packages (from pyproj) (2022.9.24)\n",
            "Installing collected packages: pyproj\n",
            "Successfully installed pyproj-3.2.1\n"
          ]
        }
      ],
      "source": [
        "!pip install sumolib\n",
        "!pip install pyproj"
      ]
    },
    {
      "cell_type": "code",
      "source": [
        "import sumolib\n",
        "import pyproj\n",
        "import numpy as np\n",
        "\n",
        "import matplotlib.pyplot as plt\n",
        "# parse the net\n",
        "\n",
        "net = sumolib.net.readNet('drive/MyDrive/Colab Notebooks/Stuttgart/stuttgart.net.xml.gz')\n",
        "\n",
        "x0, y0, x1, y1 = net.getBoundary()\n",
        "\n",
        "xs = np. linspace(x0, x1, 10)\n",
        "ys = np. linspace(y0, y1, 10)\n",
        "X, Y = np. meshgrid(xs, ys)\n",
        "\n",
        "points = np.append(X.reshape(-1,1),Y.reshape(-1,1),axis=1)\n",
        "print(points)\n",
        "\n",
        "plt.figure(figsize=(10,10), dpi=80)\n",
        "\n",
        "plt.plot(X, Y, '.', color='black');\n",
        "plt.show()"
      ],
      "metadata": {
        "id": "QlNx0N2_rZMf",
        "colab": {
          "base_uri": "https://localhost:8080/",
          "height": 1000
        },
        "outputId": "5cc465f8-6447-49ba-ddbd-2a0f36541014"
      },
      "execution_count": 58,
      "outputs": [
        {
          "output_type": "stream",
          "name": "stdout",
          "text": [
            "[[   0.            0.        ]\n",
            " [ 804.27444444    0.        ]\n",
            " [1608.54888889    0.        ]\n",
            " [2412.82333333    0.        ]\n",
            " [3217.09777778    0.        ]\n",
            " [4021.37222222    0.        ]\n",
            " [4825.64666667    0.        ]\n",
            " [5629.92111111    0.        ]\n",
            " [6434.19555556    0.        ]\n",
            " [7238.47          0.        ]\n",
            " [   0.          715.00666667]\n",
            " [ 804.27444444  715.00666667]\n",
            " [1608.54888889  715.00666667]\n",
            " [2412.82333333  715.00666667]\n",
            " [3217.09777778  715.00666667]\n",
            " [4021.37222222  715.00666667]\n",
            " [4825.64666667  715.00666667]\n",
            " [5629.92111111  715.00666667]\n",
            " [6434.19555556  715.00666667]\n",
            " [7238.47        715.00666667]\n",
            " [   0.         1430.01333333]\n",
            " [ 804.27444444 1430.01333333]\n",
            " [1608.54888889 1430.01333333]\n",
            " [2412.82333333 1430.01333333]\n",
            " [3217.09777778 1430.01333333]\n",
            " [4021.37222222 1430.01333333]\n",
            " [4825.64666667 1430.01333333]\n",
            " [5629.92111111 1430.01333333]\n",
            " [6434.19555556 1430.01333333]\n",
            " [7238.47       1430.01333333]\n",
            " [   0.         2145.02      ]\n",
            " [ 804.27444444 2145.02      ]\n",
            " [1608.54888889 2145.02      ]\n",
            " [2412.82333333 2145.02      ]\n",
            " [3217.09777778 2145.02      ]\n",
            " [4021.37222222 2145.02      ]\n",
            " [4825.64666667 2145.02      ]\n",
            " [5629.92111111 2145.02      ]\n",
            " [6434.19555556 2145.02      ]\n",
            " [7238.47       2145.02      ]\n",
            " [   0.         2860.02666667]\n",
            " [ 804.27444444 2860.02666667]\n",
            " [1608.54888889 2860.02666667]\n",
            " [2412.82333333 2860.02666667]\n",
            " [3217.09777778 2860.02666667]\n",
            " [4021.37222222 2860.02666667]\n",
            " [4825.64666667 2860.02666667]\n",
            " [5629.92111111 2860.02666667]\n",
            " [6434.19555556 2860.02666667]\n",
            " [7238.47       2860.02666667]\n",
            " [   0.         3575.03333333]\n",
            " [ 804.27444444 3575.03333333]\n",
            " [1608.54888889 3575.03333333]\n",
            " [2412.82333333 3575.03333333]\n",
            " [3217.09777778 3575.03333333]\n",
            " [4021.37222222 3575.03333333]\n",
            " [4825.64666667 3575.03333333]\n",
            " [5629.92111111 3575.03333333]\n",
            " [6434.19555556 3575.03333333]\n",
            " [7238.47       3575.03333333]\n",
            " [   0.         4290.04      ]\n",
            " [ 804.27444444 4290.04      ]\n",
            " [1608.54888889 4290.04      ]\n",
            " [2412.82333333 4290.04      ]\n",
            " [3217.09777778 4290.04      ]\n",
            " [4021.37222222 4290.04      ]\n",
            " [4825.64666667 4290.04      ]\n",
            " [5629.92111111 4290.04      ]\n",
            " [6434.19555556 4290.04      ]\n",
            " [7238.47       4290.04      ]\n",
            " [   0.         5005.04666667]\n",
            " [ 804.27444444 5005.04666667]\n",
            " [1608.54888889 5005.04666667]\n",
            " [2412.82333333 5005.04666667]\n",
            " [3217.09777778 5005.04666667]\n",
            " [4021.37222222 5005.04666667]\n",
            " [4825.64666667 5005.04666667]\n",
            " [5629.92111111 5005.04666667]\n",
            " [6434.19555556 5005.04666667]\n",
            " [7238.47       5005.04666667]\n",
            " [   0.         5720.05333333]\n",
            " [ 804.27444444 5720.05333333]\n",
            " [1608.54888889 5720.05333333]\n",
            " [2412.82333333 5720.05333333]\n",
            " [3217.09777778 5720.05333333]\n",
            " [4021.37222222 5720.05333333]\n",
            " [4825.64666667 5720.05333333]\n",
            " [5629.92111111 5720.05333333]\n",
            " [6434.19555556 5720.05333333]\n",
            " [7238.47       5720.05333333]\n",
            " [   0.         6435.06      ]\n",
            " [ 804.27444444 6435.06      ]\n",
            " [1608.54888889 6435.06      ]\n",
            " [2412.82333333 6435.06      ]\n",
            " [3217.09777778 6435.06      ]\n",
            " [4021.37222222 6435.06      ]\n",
            " [4825.64666667 6435.06      ]\n",
            " [5629.92111111 6435.06      ]\n",
            " [6434.19555556 6435.06      ]\n",
            " [7238.47       6435.06      ]]\n"
          ]
        },
        {
          "output_type": "display_data",
          "data": {
            "text/plain": [
              "<Figure size 800x800 with 1 Axes>"
            ],
            "image/png": "[encoded data removed]"
          },
          "metadata": {
            "needs_background": "light"
          }
        }
      ]
    }
  ]
}