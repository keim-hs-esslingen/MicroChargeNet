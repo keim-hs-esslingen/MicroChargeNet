{
  "nbformat": 4,
  "nbformat_minor": 0,
  "metadata": {
    "colab": {
      "provenance": [],
      "mount_file_id": "19UrdTG_wMZxHxpHDqO1l-unBCihZQe1L",
      "authorship_tag": "ABX9TyP6Na9p/uEKDnTFUNdohXT6",
      "include_colab_link": true
    },
    "kernelspec": {
      "name": "python3",
      "display_name": "Python 3"
    },
    "language_info": {
      "name": "python"
    }
  },
  "cells": [
    {
      "cell_type": "markdown",
      "metadata": {
        "id": "view-in-github",
        "colab_type": "text"
      },
      "source": [
        "<a href=\"https://colab.research.google.com/github/keim-hs-esslingen/MicroChargeNet/blob/main/notebook.ipynb\" target=\"_parent\"><img src=\"https://colab.research.google.com/assets/colab-badge.svg\" alt=\"Open In Colab\"/></a>"
      ]
    },
    {
      "cell_type": "code",
      "execution_count": 2,
      "metadata": {
        "id": "6vT6YHrEf4A4",
        "colab": {
          "base_uri": "https://localhost:8080/"
        },
        "outputId": "79411415-d51b-4dda-f3b7-ef76553f42f2"
      },
      "outputs": [
        {
          "output_type": "stream",
          "name": "stdout",
          "text": [
            "Looking in indexes: https://pypi.org/simple, https://us-python.pkg.dev/colab-wheels/public/simple/\n",
            "Collecting sumolib\n",
            "  Downloading sumolib-1.15.0-py3-none-any.whl (144 kB)\n",
            "\u001b[?25l\r\u001b[K     |██▎                             | 10 kB 23.9 MB/s eta 0:00:01\r\u001b[K     |████▌                           | 20 kB 29.2 MB/s eta 0:00:01\r\u001b[K     |██████▉                         | 30 kB 37.6 MB/s eta 0:00:01\r\u001b[K     |█████████                       | 40 kB 42.0 MB/s eta 0:00:01\r\u001b[K     |███████████▍                    | 51 kB 47.1 MB/s eta 0:00:01\r\u001b[K     |█████████████▋                  | 61 kB 52.9 MB/s eta 0:00:01\r\u001b[K     |███████████████▉                | 71 kB 26.3 MB/s eta 0:00:01\r\u001b[K     |██████████████████▏             | 81 kB 26.8 MB/s eta 0:00:01\r\u001b[K     |████████████████████▍           | 92 kB 28.5 MB/s eta 0:00:01\r\u001b[K     |██████████████████████▊         | 102 kB 30.4 MB/s eta 0:00:01\r\u001b[K     |█████████████████████████       | 112 kB 30.4 MB/s eta 0:00:01\r\u001b[K     |███████████████████████████▏    | 122 kB 30.4 MB/s eta 0:00:01\r\u001b[K     |█████████████████████████████▌  | 133 kB 30.4 MB/s eta 0:00:01\r\u001b[K     |███████████████████████████████▊| 143 kB 30.4 MB/s eta 0:00:01\r\u001b[K     |████████████████████████████████| 144 kB 30.4 MB/s \n",
            "\u001b[?25hInstalling collected packages: sumolib\n",
            "Successfully installed sumolib-1.15.0\n",
            "Looking in indexes: https://pypi.org/simple, https://us-python.pkg.dev/colab-wheels/public/simple/\n",
            "Collecting pyproj\n",
            "  Downloading pyproj-3.4.0-cp38-cp38-manylinux_2_17_x86_64.manylinux2014_x86_64.whl (7.8 MB)\n",
            "\u001b[K     |████████████████████████████████| 7.8 MB 23.5 MB/s \n",
            "\u001b[?25hRequirement already satisfied: certifi in /usr/local/lib/python3.8/dist-packages (from pyproj) (2022.9.24)\n",
            "Installing collected packages: pyproj\n",
            "Successfully installed pyproj-3.4.0\n",
            "Looking in indexes: https://pypi.org/simple, https://us-python.pkg.dev/colab-wheels/public/simple/\n",
            "Collecting rtree\n",
            "  Downloading Rtree-1.0.1-cp38-cp38-manylinux_2_17_x86_64.manylinux2014_x86_64.whl (1.0 MB)\n",
            "\u001b[K     |████████████████████████████████| 1.0 MB 28.4 MB/s \n",
            "\u001b[?25hInstalling collected packages: rtree\n",
            "Successfully installed rtree-1.0.1\n"
          ]
        }
      ],
      "source": [
        "!pip install sumolib\n",
        "!pip install pyproj\n",
        "!pip install rtree"
      ]
    },
    {
      "cell_type": "code",
      "source": [
        "import sumolib\n",
        "import pyproj\n",
        "import numpy as np\n",
        "import math\n",
        "\n",
        "import matplotlib.pyplot as plt\n",
        "# parse the net\n",
        "\n",
        "net = sumolib.net.readNet('drive/MyDrive/Colab Notebooks/Stuttgart/stuttgart.net.xml.gz')\n",
        "\n",
        "x0, y0, x1, y1 = net.getBoundary()\n",
        "\n",
        "offsetBounding = 700\n",
        "distance = 500\n",
        "\n",
        "# create Mesh\n",
        "count= round((x1 - offsetBounding - (x0 + offsetBounding)) / distance)\n",
        "\n",
        "xs = np. linspace(x0 + offsetBounding, x1 - offsetBounding, count)\n",
        "ys = np. linspace(y0 + offsetBounding, y1 - offsetBounding, count)\n",
        "X, Y = np. meshgrid(xs, ys)\n",
        "\n",
        "# parse Coordinates \n",
        "rawPoints = np.append(X.reshape(-1,1),Y.reshape(-1,1),axis=1)\n",
        "\n",
        "#landuse\n",
        "\"\"\"\n",
        "polys = []\n",
        "\n",
        "for poly in sumolib.shapes.polygon.read('drive/MyDrive/Colab Notebooks/Stuttgart/stuttgart.poly.xml'):\n",
        "  if poly.type.startswith('landuse.industrial'):\n",
        "    polys.append(poly)\n",
        "\n",
        "print(polys[0])\n",
        "print(sumolib.geomhelper.isWithin((4070, 2440), polys[0].shape))\n",
        "\n",
        "###\n",
        "\"\"\"\n",
        "\n",
        "\n",
        "allowedEdgeTypes = {\"highway.primary\", \"highway.primary_link\", \"highway.secondary\", \"highway.secondary_link\",\n",
        "                       \"highway.tertiary\", \"highway.tertiary_link\", \"highway.unclassified\", \"highway.residential\",\n",
        "                       \"highway.living_street\", \"highway.cycleway\" }\n",
        "allowedVehicleClasses = set(['private', 'bicycle', 'moped', 'motorcycle', 'evehicle'])\n",
        "\n",
        "stations = []\n",
        "\n",
        "for i, point in enumerate(rawPoints):     \n",
        "\n",
        "  # find nearest Edge\n",
        "  #radius = (math.sqrt(2) * (xs[1] - xs[0])) / 2\n",
        "  radius = (xs[1] - xs[0]) /2\n",
        "  lanes = net.getNeighboringLanes(point[0], point[1], radius, includeJunctions=False)\n",
        "  # pick the closest edge\n",
        "  nearestLane = None\n",
        "  if len(lanes) > 0:\n",
        "    clearedLanes = []\n",
        "\n",
        "    for e in lanes:\n",
        "      if e[0].getEdge().getType() in allowedEdgeTypes:\n",
        "        if (e[0]._allowed & allowedVehicleClasses):\n",
        "          clearedLanes.append(e)\n",
        "\n",
        "    laneAndDistance = sorted(clearedLanes, key=lambda x: x[1] )\n",
        "    if len(laneAndDistance) > 0:\n",
        "      nearestLane = laneAndDistance[0]\n",
        "      xy = sumolib.geomhelper.positionAtShapeOffset(nearestLane[0].getShape(), nearestLane[0].getLength()/2)\n",
        "      poi = sumolib.shapes.poi.PoI('poi_'+str(i), 'station', '5', sumolib.color.decodeXML('red'), xy[0], xy[1] )\n",
        "      stations.append(poi)\n",
        "     \n",
        "\n",
        "\n",
        "\n",
        "sx = [s.x for s in stations]\n",
        "sy = [s.y for s in stations]\n",
        "\n",
        "plt.figure(figsize=(10,10), dpi=80)\n",
        "\n",
        "plt.plot(X, Y, '.', color='red')\n",
        "plt.plot(sx, sy, '.', color='green')\n",
        "plt.show()\n",
        "\n",
        "\n",
        "# Create Poly File\n",
        "\n",
        "with open('drive/MyDrive/Colab Notebooks/Stuttgart/stuttgart.stations.xml', 'w') as f:\n",
        "  f.write('<?xml version=\"1.0\"?>\\n')\n",
        "  f.write('<additional>\\n')\n",
        "  for poi in stations:\n",
        "    f.write(poi.toXML())\n",
        "  \n",
        "  f.write('</additional>\\n')"
      ],
      "metadata": {
        "id": "QlNx0N2_rZMf",
        "colab": {
          "base_uri": "https://localhost:8080/",
          "height": 654
        },
        "outputId": "9fe28aa8-7b8e-4c63-982c-4e652182e49c"
      },
      "execution_count": 23,
      "outputs": [
        {
          "output_type": "display_data",
          "data": {
            "text/plain": [
              "<Figure size 800x800 with 1 Axes>"
            ],
            "image/png": "[encoded data removed]"
          },
          "metadata": {
            "needs_background": "light"
          }
        }
      ]
    }
  ]
}